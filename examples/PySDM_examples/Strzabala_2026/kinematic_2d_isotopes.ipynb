{
 "cells": [
  {
   "cell_type": "code",
   "execution_count": null,
   "id": "initial_id",
   "metadata": {
    "collapsed": true
   },
   "outputs": [],
   "source": [
    "from PySDM_examples.Arabas_et_al_2015 import Settings, SpinUp\n",
    "from PySDM_examples.utils.kinematic_2d import Simulation"
   ]
  },
  {
   "metadata": {},
   "cell_type": "code",
   "outputs": [],
   "execution_count": null,
   "source": [
    "settings = Settings()\n",
    "storage = Storage()\n",
    "simulation = Simulation(settings, storage, SpinUp=SpinUp)\n",
    "advectees_init_profiles = {\n",
    "    \"HDO vapour mixing ratio\": np.full(shape=settings.grid[1], fill_value=1e-6),\n",
    "    \"H18O vapour mixing ratio\": np.full(shape=settings.grid[1], fill_value=1e-6),\n",
    "    \"H17O vapour mixing ratio\": np.full(shape=settings.grid[1], fill_value=1e-6),\n",
    "}\n",
    "simulation.reinit(additional_advectees_initial_profiles=advectees_init_profiles)"
   ],
   "id": "c340b54ecdfefc85"
  }
 ],
 "metadata": {
  "kernelspec": {
   "display_name": "Python 3",
   "language": "python",
   "name": "python3"
  },
  "language_info": {
   "codemirror_mode": {
    "name": "ipython",
    "version": 2
   },
   "file_extension": ".py",
   "mimetype": "text/x-python",
   "name": "python",
   "nbconvert_exporter": "python",
   "pygments_lexer": "ipython2",
   "version": "2.7.6"
  }
 },
 "nbformat": 4,
 "nbformat_minor": 5
}
