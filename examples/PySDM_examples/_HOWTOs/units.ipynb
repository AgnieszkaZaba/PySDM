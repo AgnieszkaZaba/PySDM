{
 "cells": [
  {
   "metadata": {},
   "cell_type": "markdown",
   "source": [
    "[![preview notebook](https://img.shields.io/static/v1?label=render%20on&logo=github&color=87ce3e&message=GitHub)](https://github.com/open-atmos/PySDM/blob/main/examples/PySDM_examples/howtos/units.ipynb)\n",
    "[![Binder](https://mybinder.org/badge_logo.svg)](https://mybinder.org/v2/gh/open-atmos/PySDM.git/main?urlpath=lab/tree/examples/PySDM_examples/howtos/units.ipynb)\n",
    "[![Open In Colab](https://colab.research.google.com/assets/colab-badge.svg)](https://colab.research.google.com/github/open-atmos/PySDM/blob/main/examples/PySDM_examples/howtos/units.ipynb)"
   ],
   "id": "c1925b9647eb39e9"
  },
  {
   "metadata": {},
   "cell_type": "markdown",
   "source": [
    "### PySDM dimensional analysis HOWTO\n",
    "- PySDM depends on the [Pint](https://pint.readthedocs.io/en/stable/) package which offers dimensional analysis (physical units checks) of Python code \n",
    "- this improves code readibility with expressions such as `p = 1000 * si.hPa`\n",
    "- using [Pint](https://pint.readthedocs.io/en/stable/), `si` is an instance of `pint.UnitRegistry` \n",
    "- however, for performance reasons, by default PySDM uses a custom drop-in-replacement `FakeUnitRegistry`\n",
    "- this way, we keep the readibility advantage, while not incurring any performance overhead\n",
    "- moreover, this makes the code potentially Numba JIT-compilable!\n",
    "- we also provide a way to leverage the dimensional analysis benefit for testing purposes\n",
    "- to this end, the test code can use the `DimensionalAnalysis` context manager\n",
    "- code below demonstrate how a single unit-equipped function can be used with and without unit checks "
   ],
   "id": "57a5c59c4cb8a1ec"
  },
  {
   "metadata": {
    "ExecuteTime": {
     "end_time": "2024-11-28T16:18:52.232079Z",
     "start_time": "2024-11-28T16:18:52.227562Z"
    }
   },
   "cell_type": "code",
   "source": [
    "import sys\n",
    "if 'google.colab' in sys.modules:\n",
    "    !pip --quiet install open-atmos-jupyter-utils\n",
    "    from open_atmos_jupyter_utils import pip_install_on_colab\n",
    "    pip_install_on_colab('PySDM-examples')"
   ],
   "id": "97dab670c5cf8d8b",
   "outputs": [],
   "execution_count": 30
  },
  {
   "metadata": {
    "ExecuteTime": {
     "end_time": "2024-11-28T16:18:52.603755Z",
     "start_time": "2024-11-28T16:18:52.599293Z"
    }
   },
   "cell_type": "code",
   "source": [
    "from PySDM.physics import si\n",
    "def rho():\n",
    "    p = 1000 * si.hPa\n",
    "    T = 300 * si.K\n",
    "    R = 286 * si.J / si.K / si.kg\n",
    "    return p / R / T"
   ],
   "id": "6ea31783d8e0e849",
   "outputs": [],
   "execution_count": 31
  },
  {
   "metadata": {
    "ExecuteTime": {
     "end_time": "2024-11-28T16:18:53.459811Z",
     "start_time": "2024-11-28T16:18:53.456330Z"
    }
   },
   "cell_type": "code",
   "source": [
    "rho_unit_unaware = rho()\n",
    "print(f\"{rho_unit_unaware:.2g}\")"
   ],
   "id": "287ae3f109f11bb6",
   "outputs": [
    {
     "name": "stdout",
     "output_type": "stream",
     "text": [
      "1.2\n"
     ]
    }
   ],
   "execution_count": 32
  },
  {
   "metadata": {
    "ExecuteTime": {
     "end_time": "2024-11-28T16:18:54.127668Z",
     "start_time": "2024-11-28T16:18:53.872228Z"
    }
   },
   "cell_type": "code",
   "source": [
    "from PySDM.physics.dimensional_analysis import DimensionalAnalysis\n",
    "with DimensionalAnalysis():\n",
    "    rho_unit_aware = rho()\n",
    "    assert rho_unit_aware.check(\"[mass] / [volume]\")\n",
    "    print(f\"{rho_unit_aware:.2g}\")\n",
    "    print(f\"{rho_unit_aware.to_base_units():.2g}\")"
   ],
   "id": "85bf8e7bc2ca98a",
   "outputs": [
    {
     "name": "stdout",
     "output_type": "stream",
     "text": [
      "0.012 hectopascal * kilogram / joule\n",
      "1.2 kilogram / meter ** 3\n"
     ]
    }
   ],
   "execution_count": 33
  },
  {
   "metadata": {},
   "cell_type": "code",
   "outputs": [],
   "execution_count": null,
   "source": "",
   "id": "4a3975145b8d070e"
  }
 ],
 "metadata": {
  "kernelspec": {
   "display_name": "Python 3",
   "language": "python",
   "name": "python3"
  },
  "language_info": {
   "codemirror_mode": {
    "name": "ipython",
    "version": 2
   },
   "file_extension": ".py",
   "mimetype": "text/x-python",
   "name": "python",
   "nbconvert_exporter": "python",
   "pygments_lexer": "ipython2",
   "version": "2.7.6"
  }
 },
 "nbformat": 4,
 "nbformat_minor": 5
}
