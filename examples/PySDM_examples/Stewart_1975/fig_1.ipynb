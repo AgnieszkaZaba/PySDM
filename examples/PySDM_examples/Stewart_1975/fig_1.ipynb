{
 "cells": [
  {
   "metadata": {},
   "cell_type": "markdown",
   "source": [
    "[![preview notebook](https://img.shields.io/static/v1?label=render%20on&logo=github&color=87ce3e&message=GitHub)](https://github.com/open-atmos/PySDM/blob/main/examples/PySDM_examples/Stewart_1975/fig_1.ipynb)\n",
    "[![launch on mybinder.org](https://mybinder.org/badge_logo.svg)](https://mybinder.org/v2/gh/open-atmos/PySDM.git/main?urlpath=lab/tree/examples/PySDM_examples/Stewart_1975/fig_1.ipynb)\n",
    "[![launch on Colab](https://colab.research.google.com/assets/colab-badge.svg)](https://colab.research.google.com/github/open-atmos/PySDM/blob/main/examples/PySDM_examples/Stewart_1975/fig_1.ipynb)"
   ],
   "id": "c79d78cdb747b88f"
  },
  {
   "metadata": {},
   "cell_type": "markdown",
   "source": "### based on Fig. 1 from Stewart 1975 (J. Geophys. Res.) \"_Stable Isotope FractionationDue to Evaporation and Isotopic Exchange of Falling Waterdrops: Applications to Atmospheric Processes and Evaporation of Lakes_\" (https://doi.org/10.1029/JC080i009p01133)",
   "id": "f79591b3517712d6"
  },
  {
   "metadata": {
    "ExecuteTime": {
     "end_time": "2025-03-26T22:11:18.908112Z",
     "start_time": "2025-03-26T22:11:18.903830Z"
    }
   },
   "cell_type": "code",
   "source": [
    "import sys\n",
    "if 'google.colab' in sys.modules:\n",
    "    !pip --quiet install open-atmos-jupyter-utils\n",
    "    from open_atmos_jupyter_utils import pip_install_on_colab\n",
    "    pip_install_on_colab('PySDM-examples')"
   ],
   "id": "b647df9dbc16b65f",
   "outputs": [],
   "execution_count": 1
  },
  {
   "metadata": {
    "ExecuteTime": {
     "end_time": "2025-03-26T22:11:20.816761Z",
     "start_time": "2025-03-26T22:11:18.912375Z"
    }
   },
   "cell_type": "code",
   "source": [
    "import numpy as np\n",
    "\n",
    "from PySDM import Formulae\n",
    "from PySDM.physics import si\n",
    "\n",
    "from kinzer_gunn_tables import table2, table1"
   ],
   "id": "60e08ca8f2b2fa2b",
   "outputs": [],
   "execution_count": 2
  },
  {
   "metadata": {
    "ExecuteTime": {
     "end_time": "2025-03-26T22:11:20.919270Z",
     "start_time": "2025-03-26T22:11:20.903722Z"
    }
   },
   "cell_type": "code",
   "source": [
    "formulae = Formulae(\n",
    "    ventilation='PruppacherAndRasmussen1979',\n",
    "    diffusion_thermics='Neglect',\n",
    "    air_dynamic_viscosity='ZografosEtAl1987',\n",
    "    terminal_velocity='RogersYau',\n",
    ")\n",
    "const = formulae.constants\n",
    "temperature=293.15 *si.K\n",
    "radii = table1['Radius [cm]']*si.cm\n",
    "\n",
    "air_density =const.p_STP/const.Rd/temperature\n",
    "eta_air=formulae.air_dynamic_viscosity.eta_air(temperature)\n",
    "Sc = formulae.trivia.air_schmidt_number(\n",
    "    dynamic_viscosity=eta_air, \n",
    "    diffusivity=formulae.diffusion_thermics.D(T=temperature, p=const.p_STP), \n",
    "    density=air_density,\n",
    ")\n",
    "v_term = formulae.terminal_velocity.v_term(radii)\n",
    "Re = formulae.particle_shape_and_density.reynolds_number(\n",
    "     radius=radii,\n",
    "     velocity_wrt_air=v_term,\n",
    "     dynamic_viscosity=eta_air,\n",
    "     density=air_density,\n",
    ")\n",
    "sqrt_re_times_cbrt_sc = formulae.trivia.sqrt_re_times_cbrt_sc(\n",
    "        Re=Re,\n",
    "        Sc=Sc\n",
    "    )"
   ],
   "id": "cc54713f32c0627b",
   "outputs": [],
   "execution_count": 3
  },
  {
   "metadata": {
    "ExecuteTime": {
     "end_time": "2025-03-26T22:11:20.926694Z",
     "start_time": "2025-03-26T22:11:20.924775Z"
    }
   },
   "cell_type": "code",
   "outputs": [],
   "execution_count": 4,
   "source": "F = const.FROESSLING_1938_B * np.power(2 * np.pi, 1 / 2) / np.power(Sc, 1 / 6)",
   "id": "48f90d1099d0d40b"
  },
  {
   "metadata": {
    "ExecuteTime": {
     "end_time": "2025-03-26T22:11:20.933758Z",
     "start_time": "2025-03-26T22:11:20.931693Z"
    }
   },
   "cell_type": "code",
   "source": [
    "r_dr_dt=0#TODO\n",
    "F_kinzer_gunn = (const.rho_w * r_dr_dt/ table2['20'] - 1)/0.22/np.sqrt(Re)"
   ],
   "id": "5584fe0d377245f2",
   "outputs": [],
   "execution_count": 5
  }
 ],
 "metadata": {
  "kernelspec": {
   "display_name": "Python 3",
   "language": "python",
   "name": "python3"
  },
  "language_info": {
   "codemirror_mode": {
    "name": "ipython",
    "version": 2
   },
   "file_extension": ".py",
   "mimetype": "text/x-python",
   "name": "python",
   "nbconvert_exporter": "python",
   "pygments_lexer": "ipython2",
   "version": "2.7.6"
  }
 },
 "nbformat": 4,
 "nbformat_minor": 5
}
